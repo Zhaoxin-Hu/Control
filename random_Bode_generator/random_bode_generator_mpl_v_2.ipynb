{
 "cells": [
  {
   "cell_type": "markdown",
   "metadata": {},
   "source": [
    "# Introduction\n",
    "\n",
    "This code is intended to create nice looking Bode plots for Matplotlib 2.x.x and above.  The main issue is creating appropriate and helpful tick marks.  If you have an older version of Matplotlib, you might want to stick with my original `random_bode_generator.ipynb`."
   ]
  },
  {
   "cell_type": "code",
   "execution_count": 1,
   "metadata": {
    "collapsed": true
   },
   "outputs": [],
   "source": [
    "%matplotlib inline\n",
    "import matplotlib.pyplot as plt\n",
    "import numpy as np\n",
    "from numpy import pi\n",
    "import control\n",
    "rand = np.random.rand\n",
    "plt.rcParams['font.size'] = 14"
   ]
  },
  {
   "cell_type": "markdown",
   "metadata": {},
   "source": [
    "## Helper Functions"
   ]
  },
  {
   "cell_type": "code",
   "execution_count": 2,
   "metadata": {
    "collapsed": true
   },
   "outputs": [],
   "source": [
    "def assign_poles_to_bins(max_poles=5, bins=5):\n",
    "    \"\"\"Assign poles to frequency bins.  Each bin is assigned\n",
    "    0,1, or 2 poles until max_poles is reached.\"\"\"\n",
    "    poles = [0]*bins\n",
    "    \n",
    "    for i in range(bins):\n",
    "        num_poles = np.sum(poles)\n",
    "        max_remaining = max_poles-num_poles\n",
    "        if max_remaining <= 0:\n",
    "            break\n",
    "        elif max_remaining == 1:\n",
    "            # the current bin can have 0 or 1 poles\n",
    "            r = rand()\n",
    "            if r > 0.5:\n",
    "                poles[i] = 1\n",
    "        elif max_remaining > 1:\n",
    "            # current bin can have 0, 1, or 2 poles\n",
    "            r = rand()\n",
    "            if r > 0.7:\n",
    "                poles[i] = 2\n",
    "            elif r > 0.3:\n",
    "                poles[i] = 1\n",
    "        \n",
    "    return poles"
   ]
  },
  {
   "cell_type": "code",
   "execution_count": 3,
   "metadata": {
    "collapsed": true
   },
   "outputs": [],
   "source": [
    "def assign_zeros_to_bins(poles):\n",
    "    n = np.sum(poles)\n",
    "    max_zeros = n-1\n",
    "    bins = len(poles)\n",
    "    zeros = [0]*bins\n",
    "    \n",
    "    for i, p_i in enumerate(poles):\n",
    "        num_zeros = np.sum(zeros)\n",
    "        max_remaining = max_zeros-num_zeros\n",
    "        if p_i > 0:\n",
    "            # no zeros in this bin \n",
    "            continue\n",
    "        if max_remaining <= 0:\n",
    "            break\n",
    "        elif max_remaining == 1:\n",
    "            # the current bin can have 0 or 1 poles\n",
    "            r = rand()\n",
    "            if r > 0.5:\n",
    "                zeros[i] = 1\n",
    "        elif max_remaining > 1:\n",
    "            # current bin can have 0, 1, or 2 poles\n",
    "            r = rand()\n",
    "            if r > 0.7:\n",
    "                zeros[i] = 2\n",
    "            elif r > 0.3:\n",
    "                zeros[i] = 1\n",
    "        \n",
    "    return zeros\n",
    "    "
   ]
  },
  {
   "cell_type": "code",
   "execution_count": 4,
   "metadata": {
    "collapsed": true
   },
   "outputs": [],
   "source": [
    "def random_log_freq(low_exponent):\n",
    "    \"\"\"Generate a random frequency on the range 10**low_exponent - 10**(low_exponent+1)\"\"\"\n",
    "    high_exponent = low_exponent + 1\n",
    "    mid_exp = (low_exponent+high_exponent)/2\n",
    "    act_exp = mid_exp + 0.7*(rand()-0.5)\n",
    "    freq = 10**act_exp\n",
    "    return freq"
   ]
  },
  {
   "cell_type": "code",
   "execution_count": 5,
   "metadata": {
    "collapsed": true
   },
   "outputs": [],
   "source": [
    "def pole_bins_to_den(poles):\n",
    "    exponents = [None, -2, -1, 0, 1]# powers of 10 corresponding to each frequency bin\n",
    "    \n",
    "    if poles[0] == 1:\n",
    "        G = control.TransferFunction(1,[1,0])\n",
    "    elif poles[0] == 2:\n",
    "        G = control.TransferFunction(1,[1,0,0])\n",
    "    else:\n",
    "        G = 1\n",
    "    \n",
    "    for p_i, exp_i in zip(poles[1:], exponents[1:]):\n",
    "        if p_i == 0:\n",
    "            # skip\n",
    "            continue\n",
    "        freq_i = random_log_freq(exp_i)\n",
    "        w_i = 2.0*np.pi*freq_i\n",
    "        \n",
    "        if p_i == 1:\n",
    "            G_i = control.TransferFunction(1,[1,w_i])\n",
    "        elif p_i == 2:\n",
    "            z_i = 0.8*rand()\n",
    "            G_i = control.TransferFunction(1,[1,2*z_i*w_i,w_i**2])\n",
    "            \n",
    "        G *= G_i\n",
    "        \n",
    "    return np.squeeze(G.den)"
   ]
  },
  {
   "cell_type": "code",
   "execution_count": 6,
   "metadata": {
    "collapsed": true
   },
   "outputs": [],
   "source": [
    "def zero_bins_to_num(zeros):\n",
    "    exponents = [None, -2, -1, 0, 1]# powers of 10 corresponding to each frequency bin\n",
    "    \n",
    "    if zeros[0] == 1:\n",
    "        G = control.TransferFunction([1,0],1)\n",
    "    elif zeros[0] == 2:\n",
    "        G = control.TransferFunction([1,0,0],1)\n",
    "    else:\n",
    "        G = 1\n",
    "    \n",
    "    for z_i, exp_i in zip(zeros[1:], exponents[1:]):\n",
    "        if z_i == 0:\n",
    "            # skip\n",
    "            continue\n",
    "        freq_i = random_log_freq(exp_i)\n",
    "        w_i = 2.0*np.pi*freq_i\n",
    "        \n",
    "        if z_i == 1:\n",
    "            G_i = control.TransferFunction([1,w_i],1)\n",
    "        elif z_i == 2:\n",
    "            z_i = 0.8*rand()\n",
    "            G_i = control.TransferFunction([1,2*z_i*w_i,w_i**2],1)\n",
    "            \n",
    "        G *= G_i\n",
    "        \n",
    "    if G == 1:\n",
    "        # This is the default value if zeros is a list of \n",
    "        # all zeros: [0,0,0,...,0]\n",
    "        return G\n",
    "    else:\n",
    "        return np.squeeze(G.num)"
   ]
  },
  {
   "cell_type": "code",
   "execution_count": 7,
   "metadata": {
    "collapsed": true
   },
   "outputs": [],
   "source": [
    "def random_Bode_TF(max_poles=5):\n",
    "    plist = assign_poles_to_bins(max_poles=max_poles)\n",
    "    while not np.any(plist):\n",
    "        # We will not allow a TF that has no zeros\n",
    "        plist = assign_poles_to_bins(max_poles=max_poles)\n",
    "    \n",
    "    zlist = assign_zeros_to_bins(plist)\n",
    "    den = pole_bins_to_den(plist)\n",
    "    num = zero_bins_to_num(zlist)\n",
    "    G = control.TransferFunction(num,den)\n",
    "    return G"
   ]
  },
  {
   "cell_type": "code",
   "execution_count": 72,
   "metadata": {
    "collapsed": true
   },
   "outputs": [],
   "source": [
    "def set_log_ticks(ax,nullx=False):\n",
    "    locmaj = matplotlib.ticker.LogLocator(base=10,numticks=12) \n",
    "    ax.xaxis.set_major_locator(locmaj)\n",
    "    if nullx:\n",
    "        ax.xaxis.set_major_formatter(matplotlib.ticker.NullFormatter())\n",
    "\n",
    "    mysubs = np.arange(0.1,0.99,0.1)\n",
    "    locmin = matplotlib.ticker.LogLocator(base=10.0,subs=mysubs,numticks=12)\n",
    "    ax.xaxis.set_minor_locator(locmin)\n",
    "    ax.xaxis.set_minor_formatter(matplotlib.ticker.NullFormatter())"
   ]
  },
  {
   "cell_type": "code",
   "execution_count": 73,
   "metadata": {
    "collapsed": true
   },
   "outputs": [],
   "source": [
    "def mygrid(ax):\n",
    "    ax.grid(1, which=\"both\",ls=\":\", color='0.75')"
   ]
  },
  {
   "cell_type": "code",
   "execution_count": 87,
   "metadata": {
    "collapsed": true
   },
   "outputs": [],
   "source": [
    "def set_db_ticks(ax, db):\n",
    "    dbmin = db.min()\n",
    "    dbmax = db.max()\n",
    "    # aim for less than 6 ticks in muliples of 10, 20, 40 , ...\n",
    "    myspan = dbmax-dbmin\n",
    "    maxticks = 6\n",
    "    \n",
    "    ticklist = [10,20,40,60,80]\n",
    "    \n",
    "    N = None\n",
    "    \n",
    "    for tick in ticklist:\n",
    "        if myspan/tick < maxticks:\n",
    "            N = tick\n",
    "            break\n",
    "\n",
    "    if N is None:\n",
    "        N = 100\n",
    "        \n",
    "    majorLocator = MultipleLocator(N)\n",
    "    majorFormatter = FormatStrFormatter('%d')\n",
    "\n",
    "    ax.yaxis.set_major_locator(majorLocator)\n",
    "    ax.yaxis.set_major_formatter(majorFormatter)"
   ]
  },
  {
   "cell_type": "code",
   "execution_count": 81,
   "metadata": {
    "collapsed": true
   },
   "outputs": [],
   "source": [
    "def set_phase_ticks(ax, phase):\n",
    "    phmin = phase.min()\n",
    "    phmax = phase.max()\n",
    "    # if 4 or 5 multiples of 45 is enough, use 45 as the base\n",
    "    mul45 = (phmax-phmin)/45\n",
    "    if mul45 < 6:\n",
    "        N = 45\n",
    "    elif mul45 < 12:\n",
    "        N = 90\n",
    "    else:\n",
    "        N = 180\n",
    "    majorLocator = MultipleLocator(N)\n",
    "    majorFormatter = FormatStrFormatter('%d')\n",
    "\n",
    "    ax.yaxis.set_major_locator(majorLocator)\n",
    "    ax.yaxis.set_major_formatter(majorFormatter)"
   ]
  },
  {
   "cell_type": "code",
   "execution_count": 127,
   "metadata": {
    "collapsed": true
   },
   "outputs": [],
   "source": [
    "def fix_phase(phase):\n",
    "    \"\"\"Double integrators seem to cause the phase to start at +180, \n",
    "    which is not right.  Since the code generates only strictly proper\n",
    "    TFs with relative degree of at least 1, there should always be at \n",
    "    least one more pole than zero and the high frequency phase should \n",
    "    always be negative.  If the phase ends above 0, shift it by -360 \n",
    "    degrees\n",
    "    \"\"\"\n",
    "    if phase[-1] > 0:\n",
    "        phase -= 360\n",
    "    return phase"
   ]
  },
  {
   "cell_type": "code",
   "execution_count": 128,
   "metadata": {
    "collapsed": false
   },
   "outputs": [],
   "source": [
    "def plot_bode(G, f=None):\n",
    "    if f is None:\n",
    "        f = np.logspace(-4,3,1000)\n",
    "    w = 2.0*np.pi*f\n",
    "    s = 1.0j*w\n",
    "    Gjw = G(s)\n",
    "    db = 20.0*np.log10(abs(Gjw))\n",
    "    phase_rad = np.angle(Gjw)\n",
    "    phase_rad = np.unwrap(phase_rad)\n",
    "    phase = phase_rad*180.0/np.pi\n",
    "    phase = fix_phase(phase)\n",
    "    \n",
    "    plt.figure()\n",
    "    plt.subplot(211)\n",
    "    plt.semilogx(f,db)\n",
    "    plt.ylabel('dB Mag.')\n",
    "    ax = plt.gca()\n",
    "    set_log_ticks(ax,nullx=True)\n",
    "    set_db_ticks(ax, db)\n",
    "    mygrid(ax)\n",
    "    plt.subplot(212)\n",
    "    plt.semilogx(f,phase)\n",
    "    plt.ylabel('Phase (deg.)')\n",
    "    plt.xlabel('Freq. (Hz)')\n",
    "    ax = plt.gca()\n",
    "    set_log_ticks(ax)\n",
    "    set_phase_ticks(ax, phase)\n",
    "    mygrid(ax)"
   ]
  },
  {
   "cell_type": "code",
   "execution_count": 129,
   "metadata": {
    "collapsed": true
   },
   "outputs": [],
   "source": [
    "def steady_state_fixed_sine(G,f,input_amp=1.0):\n",
    "    w = 2*np.pi*f\n",
    "    s = 1.0j*w\n",
    "    Gjw = G(s)\n",
    "    m = abs(Gjw)*input_amp\n",
    "    phi = np.angle(Gjw)\n",
    "    y_ss = '%0.4g sin(2*pi*%0.4g %+0.4g)' % (m,f,phi)\n",
    "    return y_ss"
   ]
  },
  {
   "cell_type": "markdown",
   "metadata": {},
   "source": [
    "## Usage\n",
    "\n",
    "The function `random_Bode_TF` takes one optional input, the maximum number of poles.  The default for max. poles is 5."
   ]
  },
  {
   "cell_type": "markdown",
   "metadata": {},
   "source": [
    "### Option 1: Bode Sketching\n",
    "\n",
    "Generate a random TF and show the TF.  You then sketch the Bode plot by hand.  Once you have sketched your TF, generate the Bode plot in Python to check your answer"
   ]
  },
  {
   "cell_type": "code",
   "execution_count": 124,
   "metadata": {
    "collapsed": true
   },
   "outputs": [],
   "source": [
    "G = random_Bode_TF()"
   ]
  },
  {
   "cell_type": "code",
   "execution_count": 125,
   "metadata": {
    "collapsed": false
   },
   "outputs": [
    {
     "data": {
      "text/plain": [
       "\n",
       "               s^2\n",
       "---------------------------------\n",
       "s^3 + 11.24 s^2 + 14.27 s + 3.753"
      ]
     },
     "execution_count": 125,
     "metadata": {},
     "output_type": "execute_result"
    }
   ],
   "source": [
    "G"
   ]
  },
  {
   "cell_type": "markdown",
   "metadata": {},
   "source": [
    "**Optional:** show the poles and zeros before sketching.\n",
    "\n",
    "- If you think your instructor is kind and generous, then they \n",
    "  would either give you the TF in factored form or they would allow\n",
    "  you to use a computer or your calculator to find the poles and zeros.\n",
    "    - I expect my students to at least know how to use the quadratic \n",
    "      formula to find pole and zero locations."
   ]
  },
  {
   "cell_type": "markdown",
   "metadata": {},
   "source": [
    "#### Checking Your Answer"
   ]
  },
  {
   "cell_type": "code",
   "execution_count": 130,
   "metadata": {
    "collapsed": false
   },
   "outputs": [
    {
     "data": {
      "image/png": "[encoded data removed]",
      "text/plain": [
       "<matplotlib.figure.Figure at 0x112e4ba58>"
      ]
     },
     "metadata": {},
     "output_type": "display_data"
    }
   ],
   "source": [
    "plot_bode(G)"
   ]
  },
  {
   "cell_type": "code",
   "execution_count": 111,
   "metadata": {
    "collapsed": false
   },
   "outputs": [
    {
     "data": {
      "text/plain": [
       "\n",
       "s^2 + 0.8078 s + 6.697\n",
       "----------------------\n",
       "    s^3 + 0.418 s^2"
      ]
     },
     "execution_count": 111,
     "metadata": {},
     "output_type": "execute_result"
    }
   ],
   "source": [
    "num = [ 1.        , 0.80777314, 6.69658917]\n",
    "den = [ 1.       , 0.4180368, 0.       , 0.       ]\n",
    "G_t = control.TransferFunction(num,den)\n",
    "G_t"
   ]
  },
  {
   "cell_type": "code",
   "execution_count": 131,
   "metadata": {
    "collapsed": false
   },
   "outputs": [
    {
     "data": {
      "image/png": "[encoded data removed]",
      "text/plain": [
       "<matplotlib.figure.Figure at 0x112eb1a58>"
      ]
     },
     "metadata": {},
     "output_type": "display_data"
    }
   ],
   "source": [
    "plot_bode(G_t)"
   ]
  },
  {
   "cell_type": "code",
   "execution_count": 134,
   "metadata": {
    "collapsed": true
   },
   "outputs": [],
   "source": [
    "def preserve_G(G):\n",
    "    \"\"\"Print out the code to recreate a specific TF\"\"\"\n",
    "    ns = np.squeeze(G.num)\n",
    "    ds = np.squeeze(G.den)\n",
    "    numstr = 'num = %s' % np.array2string(ns,separator=',')\n",
    "    print(numstr)\n",
    "    denstr = 'den = %s' % np.array2string(ds,separator=',')\n",
    "    print(denstr)\n",
    "    Gstr = 'G = control.TransferFunction(num,den)'\n",
    "    print(Gstr)"
   ]
  },
  {
   "cell_type": "code",
   "execution_count": 133,
   "metadata": {
    "collapsed": false
   },
   "outputs": [
    {
     "name": "stdout",
     "output_type": "stream",
     "text": [
      "num = [ 1., 0., 0.]\n",
      "den = [  1.        , 11.24217255, 14.27114041,  3.75255138]\n",
      "G = control.TransferFunction(num,den)\n"
     ]
    }
   ],
   "source": [
    "preserve_G(G)"
   ]
  },
  {
   "cell_type": "markdown",
   "metadata": {},
   "source": [
    "### Option 2: System ID\n",
    "\n",
    "Generate a random TF and then plot is Bode.  Based on the Bode, estimate the TF.  Then, once you have an estimate of the TF, check the answer."
   ]
  },
  {
   "cell_type": "code",
   "execution_count": 54,
   "metadata": {
    "collapsed": false
   },
   "outputs": [],
   "source": [
    "G = random_Bode_TF(3)"
   ]
  },
  {
   "cell_type": "code",
   "execution_count": 55,
   "metadata": {
    "collapsed": false
   },
   "outputs": [
    {
     "data": {
      "image/png": "[encoded data removed]",
      "text/plain": [
       "<matplotlib.figure.Figure at 0x116927390>"
      ]
     },
     "metadata": {},
     "output_type": "display_data"
    }
   ],
   "source": [
    "plot_bode(G)"
   ]
  },
  {
   "cell_type": "markdown",
   "metadata": {},
   "source": [
    "#### Checking Your Answer"
   ]
  },
  {
   "cell_type": "code",
   "execution_count": 56,
   "metadata": {
    "collapsed": false
   },
   "outputs": [
    {
     "data": {
      "text/plain": [
       "\n",
       "  s^2 + 16.7 s + 113.3\n",
       "-------------------------\n",
       "s^3 + 0.6845 s^2 + 8.26 s"
      ]
     },
     "execution_count": 56,
     "metadata": {},
     "output_type": "execute_result"
    }
   ],
   "source": [
    "G"
   ]
  },
  {
   "cell_type": "code",
   "execution_count": 57,
   "metadata": {
    "collapsed": false
   },
   "outputs": [
    {
     "data": {
      "text/plain": [
       "array([-0.34224919+2.8535534j, -0.34224919-2.8535534j,  0.00000000+0.j       ])"
      ]
     },
     "execution_count": 57,
     "metadata": {},
     "output_type": "execute_result"
    }
   ],
   "source": [
    "G.pole()"
   ]
  },
  {
   "cell_type": "code",
   "execution_count": 60,
   "metadata": {
    "collapsed": false
   },
   "outputs": [
    {
     "data": {
      "text/plain": [
       "array([ 0.45741201,  0.45741201,  0.        ])"
      ]
     },
     "execution_count": 60,
     "metadata": {},
     "output_type": "execute_result"
    }
   ],
   "source": [
    "np.abs(G.pole()/(2*pi))"
   ]
  },
  {
   "cell_type": "code",
   "execution_count": 61,
   "metadata": {
    "collapsed": false
   },
   "outputs": [
    {
     "data": {
      "text/plain": [
       "array([ 1.69403849,  1.69403849])"
      ]
     },
     "execution_count": 61,
     "metadata": {},
     "output_type": "execute_result"
    }
   ],
   "source": [
    "np.abs(G.zero()/(2*pi))"
   ]
  },
  {
   "cell_type": "code",
   "execution_count": null,
   "metadata": {
    "collapsed": true
   },
   "outputs": [],
   "source": []
  }
 ],
 "metadata": {
  "kernelspec": {
   "display_name": "Python 3",
   "language": "python",
   "name": "python3"
  },
  "language_info": {
   "codemirror_mode": {
    "name": "ipython",
    "version": 3
   },
   "file_extension": ".py",
   "mimetype": "text/x-python",
   "name": "python",
   "nbconvert_exporter": "python",
   "pygments_lexer": "ipython3",
   "version": "3.5.2"
  }
 },
 "nbformat": 4,
 "nbformat_minor": 0
}
