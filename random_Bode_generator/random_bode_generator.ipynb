{
 "cells": [
  {
   "cell_type": "code",
   "execution_count": 1,
   "metadata": {
    "collapsed": true
   },
   "outputs": [],
   "source": [
    "%matplotlib inline\n",
    "import matplotlib.pyplot as plt\n",
    "import numpy as np\n",
    "from numpy import pi\n",
    "import control\n",
    "rand = np.random.rand\n",
    "plt.rcParams['font.size'] = 14"
   ]
  },
  {
   "cell_type": "markdown",
   "metadata": {},
   "source": [
    "## Helper Functions"
   ]
  },
  {
   "cell_type": "code",
   "execution_count": 2,
   "metadata": {
    "collapsed": true
   },
   "outputs": [],
   "source": [
    "def assign_poles_to_bins(max_poles=5, bins=5):\n",
    "    \"\"\"Assign poles to frequency bins.  Each bin is assigned\n",
    "    0,1, or 2 poles until max_poles is reached.\"\"\"\n",
    "    poles = [0]*bins\n",
    "    \n",
    "    for i in range(bins):\n",
    "        num_poles = np.sum(poles)\n",
    "        max_remaining = max_poles-num_poles\n",
    "        if max_remaining <= 0:\n",
    "            break\n",
    "        elif max_remaining == 1:\n",
    "            # the current bin can have 0 or 1 poles\n",
    "            r = rand()\n",
    "            if r > 0.5:\n",
    "                poles[i] = 1\n",
    "        elif max_remaining > 1:\n",
    "            # current bin can have 0, 1, or 2 poles\n",
    "            r = rand()\n",
    "            if r > 0.7:\n",
    "                poles[i] = 2\n",
    "            elif r > 0.3:\n",
    "                poles[i] = 1\n",
    "        \n",
    "    return poles"
   ]
  },
  {
   "cell_type": "code",
   "execution_count": 3,
   "metadata": {
    "collapsed": true
   },
   "outputs": [],
   "source": [
    "def assign_zeros_to_bins(poles):\n",
    "    n = np.sum(poles)\n",
    "    max_zeros = n-1\n",
    "    bins = len(poles)\n",
    "    zeros = [0]*bins\n",
    "    \n",
    "    for i, p_i in enumerate(poles):\n",
    "        num_zeros = np.sum(zeros)\n",
    "        max_remaining = max_zeros-num_zeros\n",
    "        if p_i > 0:\n",
    "            # no zeros in this bin \n",
    "            continue\n",
    "        if max_remaining <= 0:\n",
    "            break\n",
    "        elif max_remaining == 1:\n",
    "            # the current bin can have 0 or 1 poles\n",
    "            r = rand()\n",
    "            if r > 0.5:\n",
    "                zeros[i] = 1\n",
    "        elif max_remaining > 1:\n",
    "            # current bin can have 0, 1, or 2 poles\n",
    "            r = rand()\n",
    "            if r > 0.7:\n",
    "                zeros[i] = 2\n",
    "            elif r > 0.3:\n",
    "                zeros[i] = 1\n",
    "        \n",
    "    return zeros\n",
    "    "
   ]
  },
  {
   "cell_type": "code",
   "execution_count": 4,
   "metadata": {
    "collapsed": true
   },
   "outputs": [],
   "source": [
    "def random_log_freq(low_exponent):\n",
    "    \"\"\"Generate a random frequency on the range 10**low_exponent - 10**(low_exponent+1)\"\"\"\n",
    "    high_exponent = low_exponent + 1\n",
    "    mid_exp = (low_exponent+high_exponent)/2\n",
    "    act_exp = mid_exp + 0.7*(rand()-0.5)\n",
    "    freq = 10**act_exp\n",
    "    return freq"
   ]
  },
  {
   "cell_type": "code",
   "execution_count": 5,
   "metadata": {
    "collapsed": true
   },
   "outputs": [],
   "source": [
    "def pole_bins_to_den(poles):\n",
    "    exponents = [None, -2, -1, 0, 1]# powers of 10 corresponding to each frequency bin\n",
    "    \n",
    "    if poles[0] == 1:\n",
    "        G = control.TransferFunction(1,[1,0])\n",
    "    elif poles[0] == 2:\n",
    "        G = control.TransferFunction(1,[1,0,0])\n",
    "    else:\n",
    "        G = 1\n",
    "    \n",
    "    for p_i, exp_i in zip(poles[1:], exponents[1:]):\n",
    "        if p_i == 0:\n",
    "            # skip\n",
    "            continue\n",
    "        freq_i = random_log_freq(exp_i)\n",
    "        w_i = 2.0*np.pi*freq_i\n",
    "        \n",
    "        if p_i == 1:\n",
    "            G_i = control.TransferFunction(1,[1,w_i])\n",
    "        elif p_i == 2:\n",
    "            z_i = 0.8*rand()\n",
    "            G_i = control.TransferFunction(1,[1,2*z_i*w_i,w_i**2])\n",
    "            \n",
    "        G *= G_i\n",
    "        \n",
    "    return np.squeeze(G.den)"
   ]
  },
  {
   "cell_type": "code",
   "execution_count": 6,
   "metadata": {
    "collapsed": true
   },
   "outputs": [],
   "source": [
    "def zero_bins_to_num(zeros):\n",
    "    exponents = [None, -2, -1, 0, 1]# powers of 10 corresponding to each frequency bin\n",
    "    \n",
    "    if zeros[0] == 1:\n",
    "        G = control.TransferFunction([1,0],1)\n",
    "    elif zeros[0] == 2:\n",
    "        G = control.TransferFunction([1,0,0],1)\n",
    "    else:\n",
    "        G = 1\n",
    "    \n",
    "    for z_i, exp_i in zip(zeros[1:], exponents[1:]):\n",
    "        if z_i == 0:\n",
    "            # skip\n",
    "            continue\n",
    "        freq_i = random_log_freq(exp_i)\n",
    "        w_i = 2.0*np.pi*freq_i\n",
    "        \n",
    "        if z_i == 1:\n",
    "            G_i = control.TransferFunction([1,w_i],1)\n",
    "        elif z_i == 2:\n",
    "            z_i = 0.8*rand()\n",
    "            G_i = control.TransferFunction([1,2*z_i*w_i,w_i**2],1)\n",
    "            \n",
    "        G *= G_i\n",
    "        \n",
    "    if G == 1:\n",
    "        # This is the default value if zeros is a list of \n",
    "        # all zeros: [0,0,0,...,0]\n",
    "        return G\n",
    "    else:\n",
    "        return np.squeeze(G.num)"
   ]
  },
  {
   "cell_type": "code",
   "execution_count": 7,
   "metadata": {
    "collapsed": true
   },
   "outputs": [],
   "source": [
    "def random_Bode_TF(max_poles=5):\n",
    "    plist = assign_poles_to_bins(max_poles=max_poles)\n",
    "    while not np.any(plist):\n",
    "        # We will not allow a TF that has no zeros\n",
    "        plist = assign_poles_to_bins(max_poles=max_poles)\n",
    "    \n",
    "    zlist = assign_zeros_to_bins(plist)\n",
    "    den = pole_bins_to_den(plist)\n",
    "    num = zero_bins_to_num(zlist)\n",
    "    G = control.TransferFunction(num,den)\n",
    "    return G"
   ]
  },
  {
   "cell_type": "code",
   "execution_count": 8,
   "metadata": {
    "collapsed": false
   },
   "outputs": [],
   "source": [
    "def plot_bode(G, f=None):\n",
    "    if f is None:\n",
    "        f = np.logspace(-4,3,1000)\n",
    "    w = 2.0*np.pi*f\n",
    "    s = 1.0j*w\n",
    "    Gjw = G(s)\n",
    "    db = 20.0*np.log10(abs(Gjw))\n",
    "    phase_rad = np.angle(Gjw)\n",
    "    phase_rad = np.unwrap(phase_rad)\n",
    "    phase = phase_rad*180.0/np.pi\n",
    "    \n",
    "    plt.figure()\n",
    "    plt.subplot(211)\n",
    "    plt.semilogx(f,db)\n",
    "    plt.ylabel('dB Mag.')\n",
    "    plt.subplot(212)\n",
    "    plt.semilogx(f,phase)\n",
    "    plt.ylabel('Phase (deg.)')\n",
    "    plt.xlabel('Freq. (Hz)')"
   ]
  },
  {
   "cell_type": "code",
   "execution_count": 9,
   "metadata": {
    "collapsed": true
   },
   "outputs": [],
   "source": [
    "def steady_state_fixed_sine(G,f,input_amp=1.0):\n",
    "    w = 2*np.pi*f\n",
    "    s = 1.0j*w\n",
    "    Gjw = G(s)\n",
    "    m = abs(Gjw)*input_amp\n",
    "    phi = np.angle(Gjw)\n",
    "    y_ss = '%0.4g sin(2*pi*%0.4g %+0.4g)' % (m,f,phi)\n",
    "    return y_ss"
   ]
  },
  {
   "cell_type": "markdown",
   "metadata": {},
   "source": [
    "## Usage\n",
    "\n",
    "The function `random_Bode_TF` takes one optional input, the maximum number of poles.  The default for max. poles is 5."
   ]
  },
  {
   "cell_type": "markdown",
   "metadata": {},
   "source": [
    "### Option 1: Bode Sketching\n",
    "\n",
    "Generate a random TF and show the TF.  You then sketch the Bode plot by hand.  Once you have sketched your TF, generate the Bode plot in Python to check your answer"
   ]
  },
  {
   "cell_type": "code",
   "execution_count": 10,
   "metadata": {
    "collapsed": true
   },
   "outputs": [],
   "source": [
    "G = random_Bode_TF()"
   ]
  },
  {
   "cell_type": "code",
   "execution_count": 11,
   "metadata": {
    "collapsed": false
   },
   "outputs": [
    {
     "data": {
      "text/plain": [
       "\n",
       "                    s + 302.6\n",
       "-------------------------------------------------\n",
       "s^5 + 13.03 s^4 + 26.92 s^3 + 8.534 s^2 + 1.909 s"
      ]
     },
     "execution_count": 11,
     "metadata": {},
     "output_type": "execute_result"
    }
   ],
   "source": [
    "G"
   ]
  },
  {
   "cell_type": "markdown",
   "metadata": {},
   "source": [
    "**Optional:** show the poles and zeros before sketching.\n",
    "\n",
    "- If you think your instructor is kind and generous, then they \n",
    "  would either give you the TF in factored form or they would allow\n",
    "  you to use a computer or your calculator to find the poles and zeros.\n",
    "    - I expect my students to at least know how to use the quadratic \n",
    "      formula to find pole and zero locations."
   ]
  },
  {
   "cell_type": "code",
   "execution_count": 12,
   "metadata": {
    "collapsed": false
   },
   "outputs": [
    {
     "data": {
      "text/plain": [
       "array([-10.54950930+0.j        ,  -2.14728301+0.j        ,\n",
       "        -0.16474295+0.23900588j,  -0.16474295-0.23900588j,   0.00000000+0.j        ])"
      ]
     },
     "execution_count": 12,
     "metadata": {},
     "output_type": "execute_result"
    }
   ],
   "source": [
    "G.pole()"
   ]
  },
  {
   "cell_type": "code",
   "execution_count": 13,
   "metadata": {
    "collapsed": false
   },
   "outputs": [
    {
     "data": {
      "text/plain": [
       "array([-302.64050825])"
      ]
     },
     "execution_count": 13,
     "metadata": {},
     "output_type": "execute_result"
    }
   ],
   "source": [
    "G.zero()"
   ]
  },
  {
   "cell_type": "markdown",
   "metadata": {},
   "source": [
    "#### Checking Your Answer"
   ]
  },
  {
   "cell_type": "code",
   "execution_count": 14,
   "metadata": {
    "collapsed": false
   },
   "outputs": [
    {
     "data": {
      "image/png": "[encoded data removed]",
      "text/plain": [
       "<matplotlib.figure.Figure at 0x1160c3908>"
      ]
     },
     "metadata": {},
     "output_type": "display_data"
    }
   ],
   "source": [
    "plot_bode(G)"
   ]
  },
  {
   "cell_type": "markdown",
   "metadata": {},
   "source": [
    "### Option 2: System ID\n",
    "\n",
    "Generate a random TF and then plot is Bode.  Based on the Bode, estimate the TF.  Then, once you have an estimate of the TF, check the answer."
   ]
  },
  {
   "cell_type": "code",
   "execution_count": 15,
   "metadata": {
    "collapsed": false
   },
   "outputs": [],
   "source": [
    "G = random_Bode_TF(3)"
   ]
  },
  {
   "cell_type": "code",
   "execution_count": 16,
   "metadata": {
    "collapsed": false
   },
   "outputs": [
    {
     "data": {
      "image/png": "[encoded data removed]",
      "text/plain": [
       "<matplotlib.figure.Figure at 0x116701ef0>"
      ]
     },
     "metadata": {},
     "output_type": "display_data"
    }
   ],
   "source": [
    "plot_bode(G)"
   ]
  },
  {
   "cell_type": "markdown",
   "metadata": {},
   "source": [
    "#### Checking Your Answer"
   ]
  },
  {
   "cell_type": "code",
   "execution_count": 17,
   "metadata": {
    "collapsed": false
   },
   "outputs": [
    {
     "data": {
      "text/plain": [
       "\n",
       "s^2 + 373.8 s + 160.4\n",
       "---------------------\n",
       "   s^3 + 1.268 s^2"
      ]
     },
     "execution_count": 17,
     "metadata": {},
     "output_type": "execute_result"
    }
   ],
   "source": [
    "G"
   ]
  },
  {
   "cell_type": "code",
   "execution_count": 18,
   "metadata": {
    "collapsed": false
   },
   "outputs": [
    {
     "data": {
      "text/plain": [
       "array([-1.2683153,  0.       ,  0.       ])"
      ]
     },
     "execution_count": 18,
     "metadata": {},
     "output_type": "execute_result"
    }
   ],
   "source": [
    "G.pole()"
   ]
  },
  {
   "cell_type": "code",
   "execution_count": 19,
   "metadata": {
    "collapsed": false
   },
   "outputs": [
    {
     "data": {
      "text/plain": [
       "array([-373.38940875,   -0.42954513])"
      ]
     },
     "execution_count": 19,
     "metadata": {},
     "output_type": "execute_result"
    }
   ],
   "source": [
    "G.zero()"
   ]
  },
  {
   "cell_type": "code",
   "execution_count": null,
   "metadata": {
    "collapsed": true
   },
   "outputs": [],
   "source": []
  }
 ],
 "metadata": {
  "kernelspec": {
   "display_name": "Python 3",
   "language": "python",
   "name": "python3"
  },
  "language_info": {
   "codemirror_mode": {
    "name": "ipython",
    "version": 3
   },
   "file_extension": ".py",
   "mimetype": "text/x-python",
   "name": "python",
   "nbconvert_exporter": "python",
   "pygments_lexer": "ipython3",
   "version": "3.5.2"
  }
 },
 "nbformat": 4,
 "nbformat_minor": 0
}
